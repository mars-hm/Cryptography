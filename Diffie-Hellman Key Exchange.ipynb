{
  "nbformat": 4,
  "nbformat_minor": 0,
  "metadata": {
    "colab": {
      "provenance": []
    },
    "kernelspec": {
      "name": "python3",
      "display_name": "Python 3"
    },
    "language_info": {
      "name": "python"
    }
  },
  "cells": [
    {
      "cell_type": "markdown",
      "source": [
        "Write algorithm for Diffie-Hellman key exchange algorithm using the given steps.\n",
        "Consider a prime number p\n",
        "Consider primitive root (generator) g of  such that g < p\n",
        "Take a and find A=g^a mod p. Similarly find B using b.\n",
        "Find K1 such that K1=B^a mod p for user . Similarly, find K2\n",
        "Check for the equality of K1 and K2."
      ],
      "metadata": {
        "id": "AJ2ruHrdczpU"
      }
    },
    {
      "cell_type": "code",
      "source": [
        "import random\n",
        "\n",
        "def diffie_hellman(a,b,p):\n",
        "  g = random.randint(1, p - 1)\n",
        "  print(\"\\nPrimitive Root (Generator), G:\",g)\n",
        "  A=pow(g,a,p)\n",
        "  B=pow(g,b,p)\n",
        "  k1=pow(B,a,p)\n",
        "  k2=pow(A,b,p)\n",
        "  return k1, k2\n",
        "\n",
        "a=int(input(\"Alice's Secret Key: \"))\n",
        "b=int(input(\"Bob's Secret Key: \"))\n",
        "p=int(input(\"Public Parameter, p: \"))\n",
        "k1,k2=diffie_hellman(a,b,p)\n",
        "print(\"Generated Secret Key for Alice:\",k1)\n",
        "print(\"Generated Secret Key for Bob:\",k2)\n",
        "if (k1==k2):\n",
        "    c=print(\"Alice's Key & Bob's Key are SAME\")"
      ],
      "metadata": {
        "colab": {
          "base_uri": "https://localhost:8080/"
        },
        "id": "Ql2wdue0n6-5",
        "outputId": "4432f464-6b3c-4054-e517-b7801b293c06"
      },
      "execution_count": null,
      "outputs": [
        {
          "output_type": "stream",
          "name": "stdout",
          "text": [
            "Alice's Secret Key: 4\n",
            "Bob's Secret Key: 5\n",
            "Public Parameter, p: 17\n",
            "\n",
            "Primitive Root (Generator), G: 7\n",
            "Generated Secret Key for Alice: 4\n",
            "Generated Secret Key for Bob: 4\n",
            "Alice's Key & Bob's Key are SAME\n"
          ]
        }
      ]
    },
    {
      "cell_type": "code",
      "source": [
        "import random\n",
        "p=25\n",
        "g = random.randint(2, p - 1)\n",
        "print(g)\n"
      ],
      "metadata": {
        "colab": {
          "base_uri": "https://localhost:8080/"
        },
        "id": "lH7dcXvwofMK",
        "outputId": "b54c10aa-c61f-4b46-95e7-00cd5329b4ea"
      },
      "execution_count": null,
      "outputs": [
        {
          "output_type": "stream",
          "name": "stdout",
          "text": [
            "19\n"
          ]
        }
      ]
    }
  ]
}