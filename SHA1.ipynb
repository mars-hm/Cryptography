{
  "nbformat": 4,
  "nbformat_minor": 0,
  "metadata": {
    "colab": {
      "provenance": []
    },
    "kernelspec": {
      "name": "python3",
      "display_name": "Python 3"
    },
    "language_info": {
      "name": "python"
    }
  },
  "cells": [
    {
      "cell_type": "markdown",
      "source": [
        "Implement SHA-1:\n",
        "1. Initialization: Set the initial hash values (h0, h1, h2, h3, h4).\n",
        "2. Pre-processing:\n",
        "  i ) Append a '1' bit to the message.\n",
        "  ii ) Pad with '0' bits until the message length is 448 mod 512.\n",
        "  iii ) Append the original message length as a 64-bit integer.\n",
        "3. Chunk Processing:\n",
        "i ) Split the message into 512-bit chunks.\n",
        "ii ) Extend each chunk into eighty 32-bit words.\n",
        "Main Loop: Update hash values for each chunk.\n",
        "Final Hash: Concatenate the final hash values.\n",
        "4. Coding:\n",
        "Write a left_rotate(value, bits) function for bitwise rotation.\n",
        "Implement the sha1(data) function.\n",
        "5. Testing: Test with various input strings to verify the correct hash output."
      ],
      "metadata": {
        "id": "EqfaPaYkqGKl"
      }
    },
    {
      "cell_type": "code",
      "source": [
        "def left_rotate(value, bits):\n",
        "    return ((value << bits) | (value >> (32 - bits))) & 0xffffffff\n",
        "\n",
        "def sha1(data):\n",
        "    h0, h1, h2, h3, h4 = 0x67452301, 0xEFCDAB89, 0x98BADCFE, 0x10325476, 0xc3D2E1F0\n",
        "    data = data.encode('utf-8')\n",
        "    data += b'\\x80'\n",
        "    while len(data) % 64 != 56:\n",
        "        data += b'\\x00'\n",
        "\n",
        "    lbit = len(data) * 8 - 8 #bit length\n",
        "    bbytes = [0] * 8 # bit to byte\n",
        "    for i in range(8):\n",
        "        bbytes[7 - i] = lbit & 0xff\n",
        "        lbit >>= 8\n",
        "\n",
        "    data += bytes(bbytes)\n",
        "\n",
        "    def bint(b): #bytes to int\n",
        "        result = 0\n",
        "        for byte in b:\n",
        "            result = result * 256 + int(byte)\n",
        "        return result\n",
        "\n",
        "    for i in range(0, len(data), 64):\n",
        "        block = data[i:i+64]\n",
        "        w = [0] * 80\n",
        "        for j in range(16):\n",
        "            w[j] = bint(block[j*4:(j+1)*4])\n",
        "        for j in range(16, 80):\n",
        "            w[j] = left_rotate(w[j-3] ^ w[j-8] ^ w[j-14] ^ w[j-16], 1)\n",
        "\n",
        "        a, b, c, d, e = h0, h1, h2, h3, h4\n",
        "        for j in range(80):\n",
        "            if j < 20:\n",
        "                f = (b & c) | ((~b) & d)\n",
        "                k = 0x5A827999\n",
        "            elif j < 40:\n",
        "                f = b ^ c ^ d\n",
        "                k = 0x6ED9EBA1\n",
        "            elif j < 60:\n",
        "                f = (b & c) | (b & d) | (c & d)\n",
        "                k = 0x8F1BBCDC\n",
        "            else:\n",
        "                f = b ^ c ^ d\n",
        "                k = 0xCA62C1D6\n",
        "\n",
        "            a, b, c, d, e = ((left_rotate(a, 5) + f + e + k + w[j]) & 0xffffffff), a, left_rotate(b, 30), c, d\n",
        "\n",
        "        h0, h1, h2, h3, h4 = (h0 + a) & 0xffffffff, (h1 + b) & 0xffffffff, (h2 + c) & 0xffffffff, (h3 + d) & 0xffffffff, (h4 + e) & 0xffffffff\n",
        "\n",
        "    return '%08x%08x%08x%08x%08x' % (h0, h1, h2, h3, h4)\n",
        "\n",
        "str1 = input(\"Enter an Input String: \")\n",
        "result = sha1(str1)\n",
        "print(result)"
      ],
      "metadata": {
        "colab": {
          "base_uri": "https://localhost:8080/"
        },
        "id": "rysxnyceqEXn",
        "outputId": "4959b42e-3737-49de-f98b-2d6df87252ec"
      },
      "execution_count": 5,
      "outputs": [
        {
          "output_type": "stream",
          "name": "stdout",
          "text": [
            "Enter an Input String: mooo\n",
            "a702de98ec769bac2fa38ffcc0ec6f1bb9b1edbf\n"
          ]
        }
      ]
    },
    {
      "cell_type": "code",
      "source": [
        "    h0, h1, h2, h3, h4 = 0x67452301, 0xefcdab89, 0x98badcfe, 0x10325476, 0xc3d2e1f0\n",
        "\n",
        "    for i in range(0, len(data), 64):\n",
        "        block = data[i:i+64]\n",
        "        w = [0] * 80\n",
        "        for j in range(16):\n",
        "            w[j] = int.from_bytes(block[j*4:j*4+4], byteorder='big')\n",
        "        for j in range(16, 80):\n",
        "            w[j] = left_rotate(w[j-3] ^ w[j-8] ^ w[j-14] ^ w[j-16], 1)\n",
        "\n",
        "        a, b, c, d, e = h0, h1, h2, h3, h4\n",
        "        for j in range(80):\n",
        "            if j < 20:\n",
        "                f = (b & c) | ((~b) & d)\n",
        "                k = 0x5a827999\n",
        "            elif j < 40:\n",
        "                f = b ^ c ^ d\n",
        "                k = 0x6ed9eba1\n",
        "            elif j < 60:\n",
        "                f = (b & c) | (b & d) | (c & d)\n",
        "                k = 0x8f1bbcdc\n",
        "            else:\n",
        "                f = b ^ c ^ d\n",
        "                k = 0xca62c1d6\n"
      ],
      "metadata": {
        "colab": {
          "base_uri": "https://localhost:8080/"
        },
        "id": "u37mhoFUrBJn",
        "outputId": "3fcec667-6179-44db-bca7-f33daa9c59dd"
      },
      "execution_count": 2,
      "outputs": [
        {
          "output_type": "stream",
          "name": "stdout",
          "text": [
            "fde192365480bc4409f509d609dcb7a39f5cf319\n",
            "9bc3cc2aef4ec2aab68da9b7b2b67aba8a7aa945\n",
            "c891aa6881c4dbbb975b53fd10667e182ca986a3\n"
          ]
        }
      ]
    },
    {
      "cell_type": "code",
      "source": [],
      "metadata": {
        "id": "q9dER8LjzNoj"
      },
      "execution_count": null,
      "outputs": []
    }
  ]
}