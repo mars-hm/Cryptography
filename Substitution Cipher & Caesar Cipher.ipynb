{
  "nbformat": 4,
  "nbformat_minor": 0,
  "metadata": {
    "colab": {
      "provenance": []
    },
    "kernelspec": {
      "name": "python3",
      "display_name": "Python 3"
    },
    "language_info": {
      "name": "python"
    }
  },
  "cells": [
    {
      "cell_type": "markdown",
      "source": [
        " Implement a substitution cipher in Python where your first name is rotated by a value determined from the single-digit sum of your roll number.\n"
      ],
      "metadata": {
        "id": "IlwYLjP9B6Hx"
      }
    },
    {
      "cell_type": "code",
      "execution_count": null,
      "metadata": {
        "colab": {
          "base_uri": "https://localhost:8080/"
        },
        "id": "Q2fmK8d2Borz",
        "outputId": "33fef243-10e0-4c65-80b9-15441faa1d17"
      },
      "outputs": [
        {
          "output_type": "stream",
          "name": "stdout",
          "text": [
            "Enter Your Roll No: 258649\n",
            "Encrption Key:  7\n",
            "Enter your First Name: Claudia\n",
            "\t CIPHER TEXT: JshBkph\n",
            "\n",
            "Enter the Cipher Text: JshBkph\n",
            "Enter the Decrption Key: 7\n",
            "\t PLAINTEXT: Claudia\n"
          ]
        }
      ],
      "source": [
        "def key(n):\n",
        "  while (n >= 10):\n",
        "    digit = 0\n",
        "    while(n>=1):\n",
        "      digit = digit + (n % 10)\n",
        "      n = n//10\n",
        "    n=digit\n",
        "  return digit\n",
        "\n",
        "def encrypt(fname,ekey):\n",
        "  letters='ABCDEFGHIJKLMNOPQRSTUVWXYZabcdefghijklmnopqrstuvwxyz'\n",
        "  cipher=''\n",
        "  for char in fname:\n",
        "        if char in letters:\n",
        "          i = (letters.index(char) + ekey) % len(letters)\n",
        "          cipher += letters[i]\n",
        "        else:\n",
        "            cipher += char\n",
        "  return cipher\n",
        "\n",
        "def decrypt(cipher,dkey):\n",
        "  letters='ABCDEFGHIJKLMNOPQRSTUVWXYZabcdefghijklmnopqrstuvwxyz'\n",
        "  plaintext=''\n",
        "  for char in cipher:\n",
        "        if char in letters:\n",
        "            i = (letters.index(char)-dkey)%len(letters)\n",
        "            plaintext += letters[i]\n",
        "        else:\n",
        "            plaintext += char\n",
        "  return plaintext\n",
        "\n",
        "n=int(input(\"Enter Your Roll No: \"))\n",
        "ekey=key(n)\n",
        "print(\"Encrption Key: \",ekey)\n",
        "fname=input(\"Enter your First Name: \")\n",
        "e1=print(\"\\t CIPHER TEXT:\", encrypt(fname,ekey))\n",
        "etext=input(\"\\nEnter the Cipher Text: \")\n",
        "dkey=int(input(\"Enter the Decrption Key: \"))\n",
        "d1=print(\"\\t PLAINTEXT:\", decrypt(etext,dkey))"
      ]
    },
    {
      "cell_type": "markdown",
      "source": [
        "Implement a Python program to perform encryption and decryption using the Caesar cipher."
      ],
      "metadata": {
        "id": "IIrZzUTIB-YY"
      }
    },
    {
      "cell_type": "code",
      "source": [
        "def encrypt(ptext,key):\n",
        "  letters='ABCDEFGHIJKLMNOPQRSTUVWXYZabcdefghijklmnopqrstuvwxyz'\n",
        "  cipher=''\n",
        "  for char in ptext:\n",
        "        if char in letters:\n",
        "          i = (letters.index(char) + key) % len(letters)\n",
        "          cipher += letters[i]\n",
        "        else:\n",
        "            cipher += char\n",
        "  return cipher\n",
        "\n",
        "def decrypt(ctext,key):\n",
        "  letters='ABCDEFGHIJKLMNOPQRSTUVWXYZabcdefghijklmnopqrstuvwxyz'\n",
        "  plaintext=''\n",
        "  for char in ctext:\n",
        "        if char in letters:\n",
        "            i = (letters.index(char)-key)%len(letters)\n",
        "            plaintext += letters[i]\n",
        "        else:\n",
        "            plaintext += char\n",
        "  return plaintext\n",
        "\n",
        "ptext=input(\"Enter the Plain Text: \")\n",
        "key=int(input(\"Shift Key: \"))\n",
        "e1=print(\"\\t CIPHER TEXT:\", encrypt(ptext,key))\n",
        "ctext=input(\"\\nEnter the Cipher Text: \")\n",
        "d1=print(\"\\t PLAINTEXT:\", decrypt(ctext,key))\n",
        "\n"
      ],
      "metadata": {
        "id": "N-dbb0EaCBRP",
        "colab": {
          "base_uri": "https://localhost:8080/"
        },
        "outputId": "5c5f7144-b926-49d0-a8be-d6d0ea923b0f"
      },
      "execution_count": null,
      "outputs": [
        {
          "output_type": "stream",
          "name": "stdout",
          "text": [
            "Enter the Plain Text: Manslaughter\n",
            "Shift Key: 4\n",
            "\t CIPHER TEXT: Qerwpeyklxiv\n",
            "\n",
            "Enter the Cipher Text: Qerwpeyklxiv\n",
            "\t PLAINTEXT: Manslaughter\n"
          ]
        }
      ]
    }
  ]
}