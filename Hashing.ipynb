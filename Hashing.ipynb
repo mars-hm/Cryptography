{
  "nbformat": 4,
  "nbformat_minor": 0,
  "metadata": {
    "colab": {
      "provenance": []
    },
    "kernelspec": {
      "name": "python3",
      "display_name": "Python 3"
    },
    "language_info": {
      "name": "python"
    }
  },
  "cells": [
    {
      "cell_type": "code",
      "execution_count": null,
      "metadata": {
        "colab": {
          "base_uri": "https://localhost:8080/"
        },
        "id": "tkRrIqq6myVd",
        "outputId": "b7f3503c-3434-4667-964a-724a1b11ade0"
      },
      "outputs": [
        {
          "output_type": "stream",
          "name": "stdout",
          "text": [
            "001001000001110101001100101\n",
            "Segments: ['0010', '0100', '0001', '1101', '0100', '1100', '0101']\n",
            "Hash Value 1 of Hue: 0111\n",
            "Hash Value 2 of Hue: 0010\n",
            "Decimal value of 0111: 7\n",
            "ASCII value of 0111: \u0007\n",
            "Decimal value of 0010: 2\n",
            "ASCII value of 0010: \u0002\n"
          ]
        }
      ],
      "source": [
        "def convert(plaintext):\n",
        "    sbinary = []  # plaintext 2 binary resultant\n",
        "    for char in plaintext:\n",
        "        bin2str = bin(ord(char))\n",
        "        sbinary.append(bin2str.replace('0b', '00'))\n",
        "    binary=''.join(sbinary)\n",
        "    return binary.zfill(2)\n",
        "\n",
        "def divide4(binary):\n",
        "    segments = []\n",
        "    for i in range(0, len(binary), 4):\n",
        "        segment = binary[i:i+4]\n",
        "        if len(segment) < 4:\n",
        "            segment = segment.zfill(4)  # Pad the segment with zeros to the left\n",
        "        segments.append(segment)\n",
        "    return segments\n",
        "\n",
        "def h1(segments):\n",
        "    h1 = 0\n",
        "    for segment in segments:\n",
        "        h1 ^= int(segment, 2)  # XOR each segment\n",
        "    return format(h1, '04b')\n",
        "\n",
        "def h2(segments):\n",
        "  madd = 0\n",
        "  for segment in segments:\n",
        "    madd += int(segment, 2)  # sum 16 each segment\n",
        "    h2 = madd % 16\n",
        "    return format(h2, '04b')\n",
        "\n",
        "def bstring(binary):\n",
        "    decimal = 0\n",
        "    for i in range(len(binary)):\n",
        "        decimal += int(binary[i]) * (2 ** (len(binary) - 1 - i))\n",
        "    return decimal, chr(decimal)\n",
        "\n",
        "plaintext = input(\"Enter the Plaintext: \")\n",
        "pbinary = convert(plaintext)\n",
        "print(pbinary)\n",
        "segments = divide4(pbinary)\n",
        "print(f\"Segments: {segments}\")\n",
        "hash1 = h1(segments)\n",
        "print(f\"Hash Value 1 of {plaintext}:\",hash1)\n",
        "hash2 = h2(segments)\n",
        "print(f\"Hash Value 2 of {plaintext}:\",hash2)\n",
        "dec1,asci1=bstring(hash1)\n",
        "print(f\"Decimal value of {hash1}: {dec1}\")\n",
        "print(f\"ASCII value of {hash1}: {asci1}\")\n",
        "dec2,asci2=bstring(hash2)\n",
        "print(f\"Decimal value of {hash2}: {dec2}\")\n",
        "print(f\"ASCII value of {hash2}: {asci2}\")"
      ]
    }
  ]
}