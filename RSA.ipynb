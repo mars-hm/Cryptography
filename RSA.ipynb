{
  "nbformat": 4,
  "nbformat_minor": 0,
  "metadata": {
    "colab": {
      "provenance": []
    },
    "kernelspec": {
      "name": "python3",
      "display_name": "Python 3"
    },
    "language_info": {
      "name": "python"
    }
  },
  "cells": [
    {
      "cell_type": "markdown",
      "source": [
        "Implement RSA Algorithm to encrypt & decrypt a message. T implementation should accept the n & the message m from the user.\n",
        "\n",
        "This task involves:\n",
        "  1.   Generating the RSA Kay\n",
        "  2.   Encrypt the message\n",
        "  3.   Decrypt it back to the original plaintext\n",
        "\n"
      ],
      "metadata": {
        "id": "e2E66g9_diFC"
      }
    },
    {
      "cell_type": "code",
      "source": [
        "import random\n",
        "def gcd(a,b):\n",
        "    r=1\n",
        "    if (a>b):\n",
        "        while r!=0:\n",
        "          r=a%b\n",
        "          a=b\n",
        "          b=r\n",
        "        return a\n",
        "\n",
        "    else:\n",
        "        while r!=0:\n",
        "          r=b%a\n",
        "          b=a\n",
        "          a=r\n",
        "        return b\n",
        "\n",
        "def key(p, q):\n",
        "    n=p*q\n",
        "    phi=(p-1)*(q-1)\n",
        "    e=random.randint(2,phi-1)\n",
        "    while gcd(e,phi)!=1:\n",
        "        e=random.randint(2,phi-1)\n",
        "    d=1\n",
        "    while (e*d) % phi != 1:\n",
        "        d+=1\n",
        "    return ((e, n),(d, n))\n",
        "\n",
        "def encrypt(ek, plaintext):\n",
        "    e,n=ek\n",
        "    return pow(plaintext, e, n)\n",
        "\n",
        "def decrypt(dk, ciphertext):\n",
        "    d,n=dk\n",
        "    return pow(ciphertext, d, n)\n",
        "\n",
        "p=int(input(\"Prime No, p: \"))\n",
        "q=int(input(\"Prime No, q: \"))\n",
        "ek, dk = key(p, q)\n",
        "print(\"Public Key (e, n):\", ek)\n",
        "print(\"Private Key (d, n):\", dk)\n",
        "m = int(input(\"Message, m: \"))\n",
        "c = encrypt(ek, m)\n",
        "print(\"Ciphertext:\", c)\n",
        "pt = decrypt(dk, c)\n",
        "print(\"Plaintext:\", pt)\n"
      ],
      "metadata": {
        "colab": {
          "base_uri": "https://localhost:8080/"
        },
        "id": "z1cHrc1dsJGA",
        "outputId": "21d64a34-4349-468a-88a1-ec759399a3af"
      },
      "execution_count": null,
      "outputs": [
        {
          "output_type": "stream",
          "name": "stdout",
          "text": [
            "Prime No, p: 73\n",
            "Prime No, q: 3\n",
            "Public Key (e, n): (79, 219)\n",
            "Private Key (d, n): (31, 219)\n",
            "Message, m: 45\n",
            "Ciphertext: 135\n",
            "Plaintext: 45\n"
          ]
        }
      ]
    },
    {
      "cell_type": "code",
      "execution_count": null,
      "metadata": {
        "id": "ypuD8PZOdN7A",
        "colab": {
          "base_uri": "https://localhost:8080/"
        },
        "outputId": "25b16953-8fd6-4ed5-91c7-af4a10036bca"
      },
      "outputs": [
        {
          "output_type": "stream",
          "name": "stdout",
          "text": [
            "Enter prime number p: 73\n",
            "Enter prime number q: 3\n",
            "Public Key (e, n): (91, 219)\n",
            "Private Key (d, n): (19, 219)\n",
            "Enter message to encrypt: hello\n",
            "Encrypted message: [185, 26, 111, 111, 108]\n",
            "Decrypted message: hello\n"
          ]
        }
      ],
      "source": [
        "import random\n",
        "import math\n",
        "def key(p, q):\n",
        "    n = p * q\n",
        "    phi = (p - 1) * (q - 1)\n",
        "    e = random.randint(2, phi - 1)\n",
        "    while math.gcd(e, phi) != 1:\n",
        "        e = random.randint(2, phi - 1)\n",
        "    d = 1\n",
        "    while (e * d) % phi != 1:\n",
        "        d += 1\n",
        "    return ((e, n), (d, n))\n",
        "\n",
        "def encrypt(ek, plaintext):\n",
        "    e, n = ek\n",
        "    ciphertext = []\n",
        "    for char in plaintext:\n",
        "        encrypted_char = pow(ord(char), e, n)\n",
        "        ciphertext.append(encrypted_char)\n",
        "    return ciphertext\n",
        "\n",
        "def decrypt(dk, ciphertext):\n",
        "    d, n = dk\n",
        "    plaintext = \"\"\n",
        "    for char in ciphertext:\n",
        "        decrypted_char = pow(char, d, n)\n",
        "        plaintext += chr(decrypted_char)\n",
        "    return plaintext\n",
        "\n",
        "p = int(input(\"Enter prime number p: \"))\n",
        "q = int(input(\"Enter prime number q: \"))\n",
        "ek, dk = key(p, q)\n",
        "print(\"Public Key (e, n):\", ek)\n",
        "print(\"Private Key (d, n):\", dk)\n",
        "m = input(\"Enter message to encrypt: \")\n",
        "c = encrypt(ek, m)\n",
        "print(\"Encrypted message:\", c)\n",
        "pt = decrypt(dk, c)\n",
        "print(\"Decrypted message:\", pt)\n"
      ]
    }
  ]
}