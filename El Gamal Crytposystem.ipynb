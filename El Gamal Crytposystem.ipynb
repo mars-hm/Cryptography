{
  "nbformat": 4,
  "nbformat_minor": 0,
  "metadata": {
    "colab": {
      "provenance": []
    },
    "kernelspec": {
      "name": "python3",
      "display_name": "Python 3"
    },
    "language_info": {
      "name": "python"
    }
  },
  "cells": [
    {
      "cell_type": "markdown",
      "source": [
        "Implement El Gamal Crytposystem & test your algorithm using the following data\n",
        "1. multiplicative group of positive integers modulo 13, choose a generator for this group.\n",
        "2. calculate El Gamal Signature of the message 5"
      ],
      "metadata": {
        "id": "Lnch0GhAmfyK"
      }
    },
    {
      "cell_type": "code",
      "execution_count": null,
      "metadata": {
        "colab": {
          "base_uri": "https://localhost:8080/"
        },
        "id": "TpFg4VchmcSY",
        "outputId": "dd1abf26-32c4-4db9-cf1d-0b9a2e44146a"
      },
      "outputs": [
        {
          "output_type": "stream",
          "name": "stdout",
          "text": [
            "Enter the value for p: 13\n",
            "Generators of p: [2, 6, 7, 11]\n"
          ]
        }
      ],
      "source": [
        "import math\n",
        "\n",
        "def generator(a, p):\n",
        "  gen = []\n",
        "  n = p - 1  # since we start from 1, not 0\n",
        "  for i in range(1, n + 1):  # start from 1, not 0\n",
        "    g = pow(a, i, p)\n",
        "    gen.append(g)\n",
        "\n",
        "  if len(set(gen)) == p - 1:  # p - 1 because we exclude 0\n",
        "    return gen\n",
        "  else:\n",
        "    return False\n",
        "\n",
        "p = int(input(\"Enter the value for p: \"))\n",
        "generators = []\n",
        "for a in range(1, p):\n",
        "  result = generator(a, p)\n",
        "  if result:\n",
        "    generators.append(a)\n",
        "print(\"Generators of p:\", generators)"
      ]
    },
    {
      "cell_type": "code",
      "source": [
        "import random\n",
        "g = random.choice(generators)\n",
        "print(g)\n",
        "\n",
        "m= int(input(\"Enter the value for m: \"))\n",
        "\n",
        "def encryption(m,g,p):\n",
        "  x=random.randint(1, p - 1) #private key\n",
        "  print(\"Private Key:\",x)\n",
        "  y=pow(g,x,p)\n",
        "  print(\"Public Key:\",y)\n",
        "  k=random.randint(1, p - 1)\n",
        "  print(\"k:\", k)\n",
        "  a=pow(g,k,p)\n",
        "  c=pow((m*y),k,p)\n",
        "  return c\n",
        "\n",
        "ciphertext= encryption(m,g,p)\n",
        "print(\"Ciphertext\",ciphertext)"
      ],
      "metadata": {
        "colab": {
          "base_uri": "https://localhost:8080/"
        },
        "id": "nEbMxGcS3cmg",
        "outputId": "69be3a76-b3ff-45ae-d573-278b3e5e5f45"
      },
      "execution_count": null,
      "outputs": [
        {
          "output_type": "stream",
          "name": "stdout",
          "text": [
            "6\n",
            "Enter the value for m: 5\n",
            "Private Key: 4\n",
            "Public Key: 9\n",
            "K: 5\n",
            "Ciphertext 2\n"
          ]
        }
      ]
    }
  ]
}